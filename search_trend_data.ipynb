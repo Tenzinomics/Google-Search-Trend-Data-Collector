{
 "cells": [
  {
   "cell_type": "code",
   "execution_count": 1,
   "metadata": {},
   "outputs": [],
   "source": [
    "#Install google trend API first If you don't have it installed already\n",
    "#!pip install pytrends \n",
    "\n",
    "import pandas as pd\n",
    "\n",
    "from pytrends.request import TrendReq\n",
    "pytrend = TrendReq()\n",
    "\n",
    "# importing module\n",
    "import time"
   ]
  },
  {
   "cell_type": "code",
   "execution_count": 2,
   "metadata": {},
   "outputs": [],
   "source": [
    "#saerch_index class gets the monthly search data from google trend using the google tred API\n",
    "class search_index:\n",
    "\n",
    "    def __init__(self, word_search, location):\n",
    "        self.word_search = word_search\n",
    "        self.location = location\n",
    "\n",
    "    def df_search_tiator(self):\n",
    "        \n",
    "        word_search = self.word_search\n",
    "        geo_code_province = self.location\n",
    "\n",
    "        #Creating an empty data frame to add search data\n",
    "        df_search_main = pd.DataFrame()    \n",
    "        row_length, col_length = df_search_main.shape \n",
    "\n",
    "        for geo_code_index in geo_code_province:\n",
    "            \n",
    "            #If the user have list of their own word search \n",
    "            #otherwise it uses the google search recomendation\n",
    "            if isinstance(word_search, list) == True:\n",
    "                search_queries = word_search\n",
    "\n",
    "            else:\n",
    "                #The initial word search\n",
    "                pytrend.build_payload(kw_list=[word_search], timeframe='all', geo=geo_code_index)\n",
    "                search_queries = pytrend.related_queries()[word_search]['top']['query'] #this gets the related serch words\n",
    "\n",
    "                #the data for the initial search\n",
    "                over_time_search = pytrend.interest_over_time()\n",
    "\n",
    "                #Inserting data into dataframe\n",
    "                df_search_main.insert(col_length, (geo_code_index +'_'+ word_search), over_time_search[word_search], True)\n",
    "                row_length, col_length = df_search_main.shape\n",
    "            \n",
    "\n",
    "            #Loops through the search words\n",
    "            for rel_query in search_queries:\n",
    "\n",
    "                pytrend.build_payload(kw_list=[rel_query], timeframe='all', geo=geo_code_index)\n",
    "                rel_query_over_time_search = pytrend.interest_over_time()\n",
    "\n",
    "                #Inserting data into dataframe \n",
    "                df_search_main.insert(col_length, (geo_code_index +'_'+ rel_query), rel_query_over_time_search[rel_query], True)\n",
    "                row_length, col_length = df_search_main.shape\n",
    "\n",
    "        return df_search_main, search_queries\n",
    "    "
   ]
  },
  {
   "cell_type": "code",
   "execution_count": 3,
   "metadata": {},
   "outputs": [],
   "source": [
    "df_search_cad, search_queries_cad  = search_index('beyond meat',['CA']).df_search_tiator()\n",
    "\n",
    "#Adding time dealay otherwise google trend breaks when pulling too many series\n",
    "time.sleep(10)\n",
    "df_search_us, search_queries_us  = search_index('beyond meat',['US']).df_search_tiator()"
   ]
  },
  {
   "cell_type": "code",
   "execution_count": 9,
   "metadata": {},
   "outputs": [],
   "source": [
    "time.sleep(10)\n",
    "#Custom search term\n",
    "df_search_custom, search_queries_custom  = search_index([\"vegetarian\",'salad bar',\"vegetarian recipe\"],['US','US-CT','CA','CA-ON']).df_search_tiator()"
   ]
  },
  {
   "cell_type": "code",
   "execution_count": 11,
   "metadata": {},
   "outputs": [],
   "source": [
    "date_index_2019 = 180\n",
    "\n",
    "with pd.ExcelWriter('search_data.xlsx') as writer:  \n",
    "    df_search_cad[date_index_2019:].to_excel(writer, sheet_name='Sheet_name_1')\n",
    "    df_search_us[date_index_2019:].to_excel(writer, sheet_name='Sheet_name_2')\n",
    "    df_search_custom[date_index_2019:].to_excel(writer, sheet_name='Sheet_name_3')"
   ]
  }
 ],
 "metadata": {
  "interpreter": {
   "hash": "17aed27dadd270e4b77bce2034d2f99cca6e3b5bab2bdb63ea4acd13fc665357"
  },
  "kernelspec": {
   "display_name": "Python 3.9.7 ('base')",
   "language": "python",
   "name": "python3"
  },
  "language_info": {
   "codemirror_mode": {
    "name": "ipython",
    "version": 3
   },
   "file_extension": ".py",
   "mimetype": "text/x-python",
   "name": "python",
   "nbconvert_exporter": "python",
   "pygments_lexer": "ipython3",
   "version": "3.9.7"
  },
  "orig_nbformat": 4
 },
 "nbformat": 4,
 "nbformat_minor": 2
}
